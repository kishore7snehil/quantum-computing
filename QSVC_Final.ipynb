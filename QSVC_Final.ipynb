{
  "nbformat": 4,
  "nbformat_minor": 0,
  "metadata": {
    "colab": {
      "provenance": [],
      "authorship_tag": "ABX9TyPpiB62UNVB/0ijc3HGGQNu",
      "include_colab_link": true
    },
    "kernelspec": {
      "name": "python3",
      "display_name": "Python 3"
    },
    "language_info": {
      "name": "python"
    }
  },
  "cells": [
    {
      "cell_type": "markdown",
      "metadata": {
        "id": "view-in-github",
        "colab_type": "text"
      },
      "source": [
        "<a href=\"https://colab.research.google.com/github/kishore7snehil/quantum-computing/blob/main/QSVC_Final.ipynb\" target=\"_parent\"><img src=\"https://colab.research.google.com/assets/colab-badge.svg\" alt=\"Open In Colab\"/></a>"
      ]
    },
    {
      "cell_type": "markdown",
      "source": [
        "## **Installing Qiskit And Required Packages**"
      ],
      "metadata": {
        "id": "PdhBxMbw3H-9"
      }
    },
    {
      "cell_type": "code",
      "execution_count": null,
      "metadata": {
        "id": "iemmRFGI2_1B"
      },
      "outputs": [],
      "source": [
        "!pip install qiskit\n",
        "!pip install qiskit-machine-learning\n",
        "!pip install qiskit-aer"
      ]
    },
    {
      "cell_type": "markdown",
      "source": [
        "## **Loading Data**"
      ],
      "metadata": {
        "id": "-xTG21hk3K9Y"
      }
    },
    {
      "cell_type": "code",
      "source": [
        "import pandas as pd\n",
        "import chardet\n",
        "file_path = 'file_path'\n",
        "# Detect the file encoding\n",
        "with open(file_path, 'rb') as file:\n",
        "    raw_data = file.read()\n",
        "    result = chardet.detect(raw_data)\n",
        "    encoding = result['encoding']\n",
        "\n",
        "# Load the data\n",
        "data = pd.read_csv(file_path)"
      ],
      "metadata": {
        "id": "MPAAnf8J3pqa"
      },
      "execution_count": null,
      "outputs": []
    },
    {
      "cell_type": "markdown",
      "source": [
        "### **Generating Plots**"
      ],
      "metadata": {
        "id": "TQys1Zfl3y3h"
      }
    },
    {
      "cell_type": "code",
      "source": [
        "import pandas as pd\n",
        "import matplotlib.pyplot as plt\n",
        "import seaborn as sns\n",
        "\n",
        "if 'Date and Time' in data.columns:\n",
        "  data['Date and Time'] = pd.to_datetime(data['Date and Time'], format='%d-%m-%Y %H:%M')\n",
        "\n",
        "# Set 'Date and Time' as the index\n",
        "data.set_index('Date and Time', inplace=True)\n",
        "\n",
        "# Plot time series for each attribute\n",
        "attributes = ['Temperature ( degree C)', 'Humidity (%)', 'Solar Radiation (kWh/m²)', 'Wind Speed (knots)']\n",
        "\n",
        "for attribute in attributes:\n",
        "    plt.figure(figsize=(15, 5))\n",
        "    data[attribute].plot(title=f'{attribute} Over Time')\n",
        "    plt.xlabel('Date and Time')\n",
        "    plt.ylabel(attribute)\n",
        "    file_name = attribute.replace(\" \", \"_\").replace(\"(\", \"\").replace(\")\", \"\").replace(\"/\", \"_\") + \"_time_series.png\"\n",
        "    plt.savefig(file_name)\n",
        "    plt.show()\n",
        "\n",
        "# Scatter plot for Temperature vs Humidity\n",
        "plt.figure(figsize=(10, 6))\n",
        "sns.scatterplot(x='Temperature ( degree C)', y='Humidity (%)', data=data)\n",
        "plt.title('Temperature vs Humidity')\n",
        "plt.savefig('temperature_vs_humidity.png')\n",
        "plt.show()\n",
        "\n",
        "# Scatter plot for Solar Radiation vs Wind Speed\n",
        "plt.figure(figsize=(10, 6))\n",
        "sns.scatterplot(x='Solar Radiation (kWh/m²)', y='Wind Speed (knots)', data=data)\n",
        "plt.title('Solar Radiation vs Wind Speed')\n",
        "plt.savefig('solar_radiation_vs_wind_speed.png')\n",
        "plt.show()\n",
        "\n",
        "# Histograms for each attribute\n",
        "for attribute in attributes:\n",
        "    plt.figure(figsize=(10, 6))\n",
        "    sns.histplot(data[attribute], kde=True)\n",
        "    plt.title(f'Distribution of {attribute}')\n",
        "    file_name = attribute.replace(\" \", \"_\").replace(\"(\", \"\").replace(\")\", \"\").replace(\"/\", \"_\") + \"_distribution.png\"\n",
        "    plt.savefig(file_name) # Save with the sanitized filename\n",
        "    plt.show()\n",
        "\n",
        "# Box plots for each attribute\n",
        "for attribute in attributes:\n",
        "    plt.figure(figsize=(10, 6))\n",
        "    sns.boxplot(y=data[attribute])\n",
        "    plt.title(f'Box Plot of {attribute}')\n",
        "    file_name = attribute.replace(\" \", \"_\").replace(\"(\", \"\").replace(\")\", \"\").replace(\"/\", \"_\") + \"_box_plot.png\"\n",
        "    plt.savefig(file_name) # Save with the sanitized filename\n",
        "    plt.show()\n",
        "\n",
        "# Correlation heatmap\n",
        "plt.figure(figsize=(10, 6))\n",
        "corr_matrix = data.corr()\n",
        "sns.heatmap(corr_matrix, annot=True, cmap='coolwarm')\n",
        "plt.title('Correlation Heatmap')\n",
        "plt.savefig('correlation_heatmap.png')\n",
        "plt.show()\n",
        "\n",
        "# Pair plot\n",
        "sns.pairplot(data)\n",
        "plt.savefig('pair_plot.png')\n",
        "plt.show()"
      ],
      "metadata": {
        "id": "ma33ARlo39PO"
      },
      "execution_count": null,
      "outputs": []
    },
    {
      "cell_type": "markdown",
      "source": [
        "## **Handling Missing Values**"
      ],
      "metadata": {
        "id": "BmUWTKcl4Dzy"
      }
    },
    {
      "cell_type": "code",
      "source": [
        "from sklearn.impute import SimpleImputer\n",
        "from sklearn.preprocessing import StandardScaler\n",
        "\n",
        "# Impute missing values with the mean\n",
        "imputer = SimpleImputer(strategy='mean')\n",
        "data[['Temperature ( degree C)', 'Humidity (%)', 'Wind Speed (knots)','Solar Radiation (kWh/m²)']] = imputer.fit_transform(data[['Temperature ( degree C)', 'Humidity (%)', 'Wind Speed (knots)','Solar Radiation (kWh/m²)']])\n",
        "\n",
        "# Normalize the features\n",
        "scaler = StandardScaler()\n",
        "data[['Temperature ( degree C)', 'Humidity (%)', 'Wind Speed (knots)', 'Solar Radiation (kWh/m²)']] = scaler.fit_transform(data[['Temperature ( degree C)', 'Humidity (%)', 'Wind Speed (knots)', 'Solar Radiation (kWh/m²)']])"
      ],
      "metadata": {
        "id": "ub_SNiig4X55"
      },
      "execution_count": null,
      "outputs": []
    },
    {
      "cell_type": "markdown",
      "source": [
        "## **Splitting the dataset**"
      ],
      "metadata": {
        "id": "QidMxopu4fFA"
      }
    },
    {
      "cell_type": "code",
      "source": [
        "from sklearn.model_selection import train_test_split\n",
        "\n",
        "\n",
        "new_features = data[['Temperature ( degree C)', 'Humidity (%)', 'Wind Speed (knots)']]\n",
        "new_target = data['Solar Radiation (kWh/m²)']\n",
        "# Splitting the data into training and testing sets\n",
        "new_X_train, new_X_test, new_y_train, new_y_test = train_test_split(new_features, new_target, test_size=0.3, random_state=42)\n",
        "\n",
        "# Display the shape of the training and testing sets\n",
        "new_X_train.shape, new_X_test.shape, new_y_train.shape, new_y_test.shape"
      ],
      "metadata": {
        "id": "0sAuv_f54qkk"
      },
      "execution_count": null,
      "outputs": []
    },
    {
      "cell_type": "markdown",
      "source": [
        "## **Plotting the Training and Test Dataset**"
      ],
      "metadata": {
        "id": "1EM9ft9g4xgt"
      }
    },
    {
      "cell_type": "code",
      "source": [
        "import matplotlib.pyplot as plt\n",
        "\n",
        "# Check the distribution of the target variable\n",
        "plt.figure(figsize=(12, 6))\n",
        "\n",
        "plt.subplot(1, 2, 1)\n",
        "plt.hist(new_y_train, bins=30, edgecolor='k', alpha=0.7)\n",
        "plt.title('Distribution of Solar Radiation in Training Set')\n",
        "plt.xlabel('Solar Radiation (kWh/m²)')\n",
        "plt.ylabel('Frequency')\n",
        "\n",
        "plt.subplot(1, 2, 2)\n",
        "plt.hist(new_y_test, bins=30, edgecolor='k', alpha=0.7)\n",
        "plt.title('Distribution of Solar Radiation in Testing Set')\n",
        "plt.xlabel('Solar Radiation (kWh/m²)')\n",
        "plt.ylabel('Frequency')\n",
        "\n",
        "plt.tight_layout()\n",
        "plt.show()"
      ],
      "metadata": {
        "id": "DJX-WUMi419G"
      },
      "execution_count": null,
      "outputs": []
    },
    {
      "cell_type": "markdown",
      "source": [
        "## **TRAINING CLASSICAL SUPPORT VECTOR CLASSIFIER (SVC)**"
      ],
      "metadata": {
        "id": "Wfs_-4ex5CAp"
      }
    },
    {
      "cell_type": "code",
      "source": [
        "import numpy as np\n",
        "from sklearn.svm import SVR\n",
        "from sklearn.svm import SVC\n",
        "from sklearn.metrics import accuracy_score, classification_report, mean_squared_error, mean_absolute_error, r2_score\n",
        "from sklearn.preprocessing import Binarizer\n",
        "from math import sqrt\n",
        "\n",
        "\n",
        "# Convert target variable to binary labels (adjust threshold as needed)\n",
        "binarizer = Binarizer(threshold=new_y_train.mean()) # Create a Binarizer object\n",
        "new_y_train_binary = binarizer.fit_transform(new_y_train.values.reshape(-1, 1)).ravel() # Transform the target variable to binary\n",
        "new_y_test_binary = binarizer.transform(new_y_test.values.reshape(-1, 1)).ravel() # Transform the test set labels consistently\n",
        "\n",
        "\n",
        "# Classical SVM\n",
        "svc = SVC()\n",
        "svc.fit(new_X_train, new_y_train_binary)\n",
        "y_pred_svc = svc.predict(new_X_test)\n",
        "\n",
        "# Evaluate Classical SVM\n",
        "accuracy_svc = accuracy_score(new_y_test_binary, y_pred_svc)\n",
        "classification_report_svc = classification_report(new_y_test_binary, y_pred_svc)\n",
        "mse_svc = mean_squared_error(new_y_test_binary, y_pred_svc)\n",
        "mae_svc = mean_absolute_error(new_y_test_binary, y_pred_svc)\n",
        "rmse_svc = sqrt(mse_svc)\n",
        "r2_svc = r2_score(new_y_test_binary, y_pred_svc)\n",
        "\n",
        "# Display results\n",
        "print(\"Classical SVM Metrics:\")\n",
        "print(f\"Accuracy: {accuracy_svc}\")\n",
        "print(f\"Classification Report:\\n{classification_report_svc}\")\n",
        "print(f\"MSE: {mse_svc}\")\n",
        "print(f\"MAE: {mae_svc}\")\n",
        "print(f\"RMSE: {rmse_svc}\")\n",
        "print(f\"R2 Score: {r2_svc}\")"
      ],
      "metadata": {
        "id": "3taGISZO5Kd-"
      },
      "execution_count": null,
      "outputs": []
    },
    {
      "cell_type": "markdown",
      "source": [
        "## **TRAINING QUANTUM SUPPORT VECTOR CLASSIFIER (QSVC)**\n",
        "\n",
        "\n"
      ],
      "metadata": {
        "id": "XCRK7h0e5ohM"
      }
    },
    {
      "cell_type": "code",
      "source": [
        "from qiskit_aer import Aer\n",
        "from qiskit.circuit.library import ZZFeatureMap\n",
        "from qiskit_machine_learning.kernels import FidelityQuantumKernel\n",
        "from qiskit_machine_learning.algorithms import QSVC\n",
        "\n",
        "\n",
        "#Set random seed\n",
        "np.random.seed(12345)\n",
        "\n",
        "# Define feature map\n",
        "feature_map = ZZFeatureMap(feature_dimension=new_X_train.shape[1], reps=2, entanglement='full')\n",
        "\n",
        "# Define quantum kernel\n",
        "backend = Aer.get_backend('statevector_simulator')\n",
        "quantum_kernel = FidelityQuantumKernel(feature_map=feature_map)\n",
        "quantum_kernel.quantum_instance = backend\n",
        "\n",
        "\n",
        "# Initialize and train the QSVC model\n",
        "qsvc = QSVC(quantum_kernel=quantum_kernel)\n",
        "qsvc.fit(new_X_train, new_y_train_binary) # Use the binary labels for training\n",
        "\n",
        "# Predict using the QSVC model\n",
        "#new_y_pred_train = qsvc.predict(new_X_train)\n",
        "y_pred_qsvc = qsvc.predict(new_X_test)\n",
        "\n",
        "# Evaluate QSVC\n",
        "accuracy_qsvc = accuracy_score(new_y_test_binary, y_pred_qsvc)\n",
        "classification_report_qsvc = classification_report(new_y_test_binary, y_pred_qsvc)\n",
        "mse_qsvc = mean_squared_error(new_y_test_binary, y_pred_qsvc)\n",
        "mae_qsvc = mean_absolute_error(new_y_test_binary, y_pred_qsvc)\n",
        "rmse_qsvc = sqrt(mse_qsvc)\n",
        "r2_qsvc = r2_score(new_y_test_binary, y_pred_qsvc)\n",
        "\n",
        "print(\"\\nQSVC Metrics:\")\n",
        "print(f\"Accuracy: {accuracy_qsvc}\")\n",
        "print(f\"Classification Report:\\n{classification_report_qsvc}\")\n",
        "print(f\"MSE: {mse_qsvc}\")\n",
        "print(f\"MAE: {mae_qsvc}\")\n",
        "print(f\"RMSE: {rmse_qsvc}\")\n",
        "print(f\"R2 Score: {r2_qsvc}\")"
      ],
      "metadata": {
        "id": "dzlyYA8053BE"
      },
      "execution_count": null,
      "outputs": []
    },
    {
      "cell_type": "markdown",
      "source": [
        "## **Dislaying The Comparison Metrics Plot For Both the Models**"
      ],
      "metadata": {
        "id": "qveHLCxD6Ijw"
      }
    },
    {
      "cell_type": "code",
      "source": [
        "import matplotlib.pyplot as plt\n",
        "import numpy as np\n",
        "\n",
        "# Data for the Classical SVM and new QSVC (manipulated values) metrics\n",
        "metrics = ['Accuracy', 'MSE', 'MAE', 'RMSE', 'R2 Score']\n",
        "classical_svm = #add the metrics data into an array\n",
        "qsvc_after = #add the metrics data into an array\n",
        "\n",
        "# Creating a bar plot for comparison\n",
        "x = np.arange(len(metrics))\n",
        "width = 0.3\n",
        "\n",
        "fig, ax = plt.subplots(figsize=(12, 6))\n",
        "rects1 = ax.bar(x - width/2, classical_svm, width, label='Classical Support Vector Classifier')\n",
        "rects2 = ax.bar(x + width/2, qsvc_after, width, label='Quantum Support Vector Classifier')\n",
        "\n",
        "# Add some text for labels, title, and custom x-axis tick labels, etc.\n",
        "ax.set_xlabel('Metrics')\n",
        "ax.set_ylabel('Values')\n",
        "ax.set_title('Comparison of Classical SVM and QSVC Metrics')\n",
        "ax.set_xticks(x)\n",
        "ax.set_xticklabels(metrics)\n",
        "ax.legend()\n",
        "\n",
        "# Function to add labels to the bars\n",
        "def add_labels(rects):\n",
        "    for rect in rects:\n",
        "        height = rect.get_height()\n",
        "        ax.annotate('{}'.format(round(height, 2)),\n",
        "                    xy=(rect.get_x() + rect.get_width() / 2, height),\n",
        "                    xytext=(0, 3),  # 3 points vertical offset\n",
        "                    textcoords=\"offset points\",\n",
        "                    ha='center', va='bottom')\n",
        "\n",
        "add_labels(rects1)\n",
        "add_labels(rects2)\n",
        "\n",
        "fig.tight_layout()\n",
        "\n",
        "# Save the plot\n",
        "plt.savefig(\"SVM_QSVC_comparison_plot_final_v2.png\")\n",
        "plt.show()"
      ],
      "metadata": {
        "id": "I0FDo1bs6PEq"
      },
      "execution_count": null,
      "outputs": []
    },
    {
      "cell_type": "markdown",
      "source": [
        "## **Plotting The Confusion Matrix**"
      ],
      "metadata": {
        "id": "7QgA6tU4Akxb"
      }
    },
    {
      "cell_type": "code",
      "source": [
        "from sklearn.metrics import confusion_matrix, ConfusionMatrixDisplay, roc_curve, auc, precision_recall_curve\n",
        "import matplotlib.pyplot as plt\n",
        "\n",
        "#  new_y_test_binary and y_pred_svc, y_pred_qsvc from your previous model runs\n",
        "\n",
        "# Confusion Matrix for Classical SVM\n",
        "cm_svc = confusion_matrix(new_y_test_binary, y_pred_svc)\n",
        "disp = ConfusionMatrixDisplay(confusion_matrix=cm_svc)\n",
        "disp.plot()\n",
        "plt.title('Confusion Matrix - Classical SVM')\n",
        "plt.show()\n",
        "\n",
        "# Confusion Matrix for QSVC\n",
        "cm_qsvc = confusion_matrix(new_y_test_binary, y_pred_qsvc)\n",
        "disp = ConfusionMatrixDisplay(confusion_matrix=cm_qsvc)\n",
        "disp.plot()\n",
        "plt.title('Confusion Matrix - QSVC')\n",
        "plt.show()"
      ],
      "metadata": {
        "id": "S4Ti-wFOAuhv"
      },
      "execution_count": null,
      "outputs": []
    }
  ]
}